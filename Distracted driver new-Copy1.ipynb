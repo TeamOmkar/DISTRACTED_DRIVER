{
 "cells": [
  {
   "cell_type": "code",
   "execution_count": 22,
   "id": "efb3c5ca",
   "metadata": {},
   "outputs": [],
   "source": [
    "import os\n",
    "import pandas as pd\n",
    "import pickle\n",
    "import numpy as np\n",
    "import seaborn as sns\n",
    "from sklearn.datasets import load_files\n",
    "import matplotlib.pyplot as plt\n",
    "from keras.layers import Conv2D, MaxPooling2D, GlobalAveragePooling2D\n",
    "from keras.layers import Dropout, Flatten, Dense\n",
    "from keras.models import Sequential\n",
    "from keras.utils import plot_model\n",
    "from keras.callbacks import ModelCheckpoint\n",
    "from keras.utils import to_categorical\n",
    "from sklearn.metrics import confusion_matrix\n",
    "from keras.preprocessing import image                  \n",
    "from tqdm import tqdm\n",
    "\n",
    "import seaborn as sns\n",
    "from sklearn.metrics import accuracy_score,precision_score,recall_score,f1_score"
   ]
  },
  {
   "cell_type": "code",
   "execution_count": 23,
   "id": "a4b756fa",
   "metadata": {},
   "outputs": [],
   "source": [
    "# Pretty display for notebooks\n",
    "%matplotlib inline"
   ]
  },
  {
   "cell_type": "code",
   "execution_count": 24,
   "id": "9580430e",
   "metadata": {},
   "outputs": [],
   "source": [
    "# !ls"
   ]
  },
  {
   "cell_type": "code",
   "execution_count": 25,
   "id": "80664020",
   "metadata": {},
   "outputs": [],
   "source": [
    "TEST_DIR = os.path.join(os.getcwd(),\"imgs\",\"test\")\n",
    "TRAIN_DIR = os.path.join(os.getcwd(),\"imgs\",\"train\")\n",
    "MODEL_PATH = os.path.join(os.getcwd(),\"model\",\"self_trained\")\n",
    "PICKLE_DIR = os.path.join(os.getcwd(),\"pickle_files\")\n",
    "CSV_DIR = os.path.join(os.getcwd(),\"csv_files\")"
   ]
  },
  {
   "cell_type": "code",
   "execution_count": 26,
   "id": "3664fe29",
   "metadata": {},
   "outputs": [
    {
     "name": "stdout",
     "output_type": "stream",
     "text": [
      "Testing data does not exists\n",
      "Training data does not exists\n"
     ]
    }
   ],
   "source": [
    "if not os.path.exists(TEST_DIR):\n",
    "    print(\"Testing data does not exists\")\n",
    "if not os.path.exists(TRAIN_DIR):\n",
    "    print(\"Training data does not exists\")\n",
    "if not os.path.exists(MODEL_PATH):\n",
    "    print(\"Model path does not exists\")\n",
    "    os.makedirs(MODEL_PATH)\n",
    "    print(\"Model path created\")\n",
    "if not os.path.exists(PICKLE_DIR):\n",
    "    os.makedirs(PICKLE_DIR)\n",
    "if not os.path.exists(CSV_DIR):\n",
    "    os.makedirs(CSV_DIR)"
   ]
  },
  {
   "cell_type": "code",
   "execution_count": 27,
   "id": "5b11e912",
   "metadata": {},
   "outputs": [],
   "source": [
    "def create_csv(DATA_DIR,filename):\n",
    "    class_names = os.listdir(DATA_DIR)\n",
    "    data = list()\n",
    "    if(os.path.isdir(os.path.join(DATA_DIR,class_names[0]))):\n",
    "        for class_name in class_names:\n",
    "            file_names = os.listdir(os.path.join(DATA_DIR,class_name))\n",
    "            for file in file_names:\n",
    "                data.append({\n",
    "                    \"Filename\":os.path.join(DATA_DIR,class_name,file),\n",
    "                    \"ClassName\":class_name\n",
    "                })\n",
    "    else:\n",
    "        class_name = \"test\"\n",
    "        file_names = os.listdir(DATA_DIR)\n",
    "        for file in file_names:\n",
    "            data.append(({\n",
    "                \"FileName\":os.path.join(DATA_DIR,file),\n",
    "                \"ClassName\":class_name\n",
    "            }))\n",
    "    data = pd.DataFrame(data)\n",
    "    data.to_csv(os.path.join(os.getcwd(),\"csv_files\",filename),index=False)\n",
    "\n",
    "create_csv(r\"C:\\Users\\omkar\\Desktop\\Distracted Driver Detection\\Distracted Driver Detection\\train\",\"train.csv\")\n",
    "create_csv(r\"C:\\Users\\omkar\\Desktop\\Distracted Driver Detection\\Distracted Driver Detection\\test\",\"test.csv\")\n",
    "data_train = pd.read_csv(os.path.join(os.getcwd(),\"csv_files\",\"train.csv\"))\n",
    "data_test = pd.read_csv(os.path.join(os.getcwd(),\"csv_files\",\"test.csv\"))"
   ]
  },
  {
   "cell_type": "code",
   "execution_count": 28,
   "id": "dcb50f03",
   "metadata": {},
   "outputs": [
    {
     "name": "stdout",
     "output_type": "stream",
     "text": [
      "<class 'pandas.core.frame.DataFrame'>\n",
      "RangeIndex: 22424 entries, 0 to 22423\n",
      "Data columns (total 2 columns):\n",
      " #   Column     Non-Null Count  Dtype \n",
      "---  ------     --------------  ----- \n",
      " 0   Filename   22424 non-null  object\n",
      " 1   ClassName  22424 non-null  object\n",
      "dtypes: object(2)\n",
      "memory usage: 350.5+ KB\n"
     ]
    }
   ],
   "source": [
    "data_train.info()"
   ]
  },
  {
   "cell_type": "code",
   "execution_count": null,
   "id": "72253f69",
   "metadata": {},
   "outputs": [],
   "source": []
  },
  {
   "cell_type": "code",
   "execution_count": 29,
   "id": "716a3eed",
   "metadata": {},
   "outputs": [
    {
     "data": {
      "text/plain": [
       "ClassName\n",
       "c0    2489\n",
       "c3    2346\n",
       "c4    2326\n",
       "c6    2325\n",
       "c2    2317\n",
       "c5    2312\n",
       "c1    2267\n",
       "c9    2129\n",
       "c7    2002\n",
       "c8    1911\n",
       "Name: count, dtype: int64"
      ]
     },
     "execution_count": 29,
     "metadata": {},
     "output_type": "execute_result"
    }
   ],
   "source": [
    "data_train['ClassName'].value_counts()"
   ]
  },
  {
   "cell_type": "code",
   "execution_count": 30,
   "id": "d14ffaf1",
   "metadata": {},
   "outputs": [
    {
     "data": {
      "text/html": [
       "<div>\n",
       "<style scoped>\n",
       "    .dataframe tbody tr th:only-of-type {\n",
       "        vertical-align: middle;\n",
       "    }\n",
       "\n",
       "    .dataframe tbody tr th {\n",
       "        vertical-align: top;\n",
       "    }\n",
       "\n",
       "    .dataframe thead th {\n",
       "        text-align: right;\n",
       "    }\n",
       "</style>\n",
       "<table border=\"1\" class=\"dataframe\">\n",
       "  <thead>\n",
       "    <tr style=\"text-align: right;\">\n",
       "      <th></th>\n",
       "      <th>Filename</th>\n",
       "      <th>ClassName</th>\n",
       "    </tr>\n",
       "  </thead>\n",
       "  <tbody>\n",
       "    <tr>\n",
       "      <th>count</th>\n",
       "      <td>22424</td>\n",
       "      <td>22424</td>\n",
       "    </tr>\n",
       "    <tr>\n",
       "      <th>unique</th>\n",
       "      <td>22424</td>\n",
       "      <td>10</td>\n",
       "    </tr>\n",
       "    <tr>\n",
       "      <th>top</th>\n",
       "      <td>C:\\Users\\omkar\\Desktop\\Distracted Driver Detec...</td>\n",
       "      <td>c0</td>\n",
       "    </tr>\n",
       "    <tr>\n",
       "      <th>freq</th>\n",
       "      <td>1</td>\n",
       "      <td>2489</td>\n",
       "    </tr>\n",
       "  </tbody>\n",
       "</table>\n",
       "</div>"
      ],
      "text/plain": [
       "                                                 Filename ClassName\n",
       "count                                               22424     22424\n",
       "unique                                              22424        10\n",
       "top     C:\\Users\\omkar\\Desktop\\Distracted Driver Detec...        c0\n",
       "freq                                                    1      2489"
      ]
     },
     "execution_count": 30,
     "metadata": {},
     "output_type": "execute_result"
    }
   ],
   "source": [
    "data_train.describe()"
   ]
  },
  {
   "cell_type": "code",
   "execution_count": 31,
   "id": "2c9967c8",
   "metadata": {},
   "outputs": [
    {
     "data": {
      "image/png": "[encoded data removed]",
      "text/plain": [
       "<Figure size 2000x1500 with 1 Axes>"
      ]
     },
     "metadata": {},
     "output_type": "display_data"
    }
   ],
   "source": [
    "nf = data_train['ClassName'].value_counts(sort=False)\n",
    "labels = data_train['ClassName'].value_counts(sort=False).index.tolist()\n",
    "y = np.array(nf)\n",
    "width = 1/1.5\n",
    "N = len(y)\n",
    "x = range(N)\n",
    "\n",
    "fig = plt.figure(figsize=(20,15))\n",
    "ay = fig.add_subplot(211)\n",
    "\n",
    "plt.xticks(x, labels, size=15)\n",
    "plt.yticks(size=15)\n",
    "\n",
    "ay.bar(x, y, width, color=\"blue\")\n",
    "\n",
    "plt.title('Bar Chart',size=25)\n",
    "plt.xlabel('classname',size=15)\n",
    "plt.ylabel('Count',size=15)\n",
    "\n",
    "plt.show()"
   ]
  },
  {
   "cell_type": "code",
   "execution_count": 32,
   "id": "e77819a8",
   "metadata": {},
   "outputs": [
    {
     "data": {
      "text/html": [
       "<div>\n",
       "<style scoped>\n",
       "    .dataframe tbody tr th:only-of-type {\n",
       "        vertical-align: middle;\n",
       "    }\n",
       "\n",
       "    .dataframe tbody tr th {\n",
       "        vertical-align: top;\n",
       "    }\n",
       "\n",
       "    .dataframe thead th {\n",
       "        text-align: right;\n",
       "    }\n",
       "</style>\n",
       "<table border=\"1\" class=\"dataframe\">\n",
       "  <thead>\n",
       "    <tr style=\"text-align: right;\">\n",
       "      <th></th>\n",
       "      <th>FileName</th>\n",
       "      <th>ClassName</th>\n",
       "    </tr>\n",
       "  </thead>\n",
       "  <tbody>\n",
       "    <tr>\n",
       "      <th>0</th>\n",
       "      <td>C:\\Users\\omkar\\Desktop\\Distracted Driver Detec...</td>\n",
       "      <td>test</td>\n",
       "    </tr>\n",
       "    <tr>\n",
       "      <th>1</th>\n",
       "      <td>C:\\Users\\omkar\\Desktop\\Distracted Driver Detec...</td>\n",
       "      <td>test</td>\n",
       "    </tr>\n",
       "    <tr>\n",
       "      <th>2</th>\n",
       "      <td>C:\\Users\\omkar\\Desktop\\Distracted Driver Detec...</td>\n",
       "      <td>test</td>\n",
       "    </tr>\n",
       "    <tr>\n",
       "      <th>3</th>\n",
       "      <td>C:\\Users\\omkar\\Desktop\\Distracted Driver Detec...</td>\n",
       "      <td>test</td>\n",
       "    </tr>\n",
       "    <tr>\n",
       "      <th>4</th>\n",
       "      <td>C:\\Users\\omkar\\Desktop\\Distracted Driver Detec...</td>\n",
       "      <td>test</td>\n",
       "    </tr>\n",
       "  </tbody>\n",
       "</table>\n",
       "</div>"
      ],
      "text/plain": [
       "                                            FileName ClassName\n",
       "0  C:\\Users\\omkar\\Desktop\\Distracted Driver Detec...      test\n",
       "1  C:\\Users\\omkar\\Desktop\\Distracted Driver Detec...      test\n",
       "2  C:\\Users\\omkar\\Desktop\\Distracted Driver Detec...      test\n",
       "3  C:\\Users\\omkar\\Desktop\\Distracted Driver Detec...      test\n",
       "4  C:\\Users\\omkar\\Desktop\\Distracted Driver Detec...      test"
      ]
     },
     "execution_count": 32,
     "metadata": {},
     "output_type": "execute_result"
    }
   ],
   "source": [
    "data_test.head()"
   ]
  },
  {
   "cell_type": "code",
   "execution_count": 33,
   "id": "1be7088c",
   "metadata": {},
   "outputs": [
    {
     "data": {
      "text/plain": [
       "(4961, 2)"
      ]
     },
     "execution_count": 33,
     "metadata": {},
     "output_type": "execute_result"
    }
   ],
   "source": [
    "data_test.shape"
   ]
  },
  {
   "cell_type": "code",
   "execution_count": 35,
   "id": "ccc79233",
   "metadata": {},
   "outputs": [
    {
     "name": "stdout",
     "output_type": "stream",
     "text": [
      "{'c5': 0, 'c9': 1, 'c3': 2, 'c7': 3, 'c8': 4, 'c0': 5, 'c6': 6, 'c4': 7, 'c2': 8, 'c1': 9}\n"
     ]
    }
   ],
   "source": [
    "labels_list = list(set(data_train['ClassName'].values.tolist()))\n",
    "labels_id = {label_name:id for id,label_name in enumerate(labels_list)}\n",
    "print(labels_id)\n",
    "data_train['ClassName'].replace(labels_id,inplace=True)"
   ]
  },
  {
   "cell_type": "code",
   "execution_count": 36,
   "id": "74e69fcf",
   "metadata": {},
   "outputs": [],
   "source": [
    "with open(os.path.join(os.getcwd(),\"pickle_files\",\"labels_list.pkl\"),\"wb\") as handle:\n",
    "    pickle.dump(labels_id,handle)"
   ]
  },
  {
   "cell_type": "code",
   "execution_count": 37,
   "id": "af04cc2f",
   "metadata": {},
   "outputs": [
    {
     "name": "stdout",
     "output_type": "stream",
     "text": [
      "(22424, 10)\n"
     ]
    }
   ],
   "source": [
    "labels = to_categorical(data_train['ClassName'])\n",
    "print(labels.shape)"
   ]
  },
  {
   "cell_type": "code",
   "execution_count": 38,
   "id": "54dc5fec",
   "metadata": {},
   "outputs": [],
   "source": [
    "from sklearn.model_selection import train_test_split\n",
    "\n",
    "xtrain,xtest,ytrain,ytest = train_test_split(data_train.iloc[:,0],labels,test_size = 0.2,random_state=42)"
   ]
  },
  {
   "cell_type": "code",
   "execution_count": 39,
   "id": "8682ddbd",
   "metadata": {},
   "outputs": [],
   "source": [
    "def path_to_tensor(img_path):\n",
    "    # loads RGB image as PIL.Image.Image type\n",
    "    img = image.load_img(img_path, target_size=(128, 128))\n",
    "    # convert PIL.Image.Image type to 3D tensor with shape (224, 224, 3)\n",
    "    x = image.img_to_array(img)\n",
    "    # convert 3D tensor to 4D tensor with shape (1, 224, 224, 3) and return 4D tensor\n",
    "    return np.expand_dims(x, axis=0)\n",
    "\n",
    "def paths_to_tensor(img_paths):\n",
    "    list_of_tensors = [path_to_tensor(img_path) for img_path in tqdm(img_paths)]\n",
    "    return np.vstack(list_of_tensors)"
   ]
  },
  {
   "cell_type": "code",
   "execution_count": 40,
   "id": "8de7a21c",
   "metadata": {},
   "outputs": [
    {
     "name": "stderr",
     "output_type": "stream",
     "text": [
      "100%|███████████████████████████████████████████████████████████████████████████████████████████████████████████████████████████████████████████████████████████████████████| 17939/17939 [04:22<00:00, 68.32it/s]\n"
     ]
    }
   ],
   "source": [
    "from PIL import ImageFile                            \n",
    "ImageFile.LOAD_TRUNCATED_IMAGES = True                 \n",
    "\n",
    "# pre-process the data for Keras\n",
    "train_tensors = paths_to_tensor(xtrain).astype('float32')/255 - 0.5"
   ]
  },
  {
   "cell_type": "code",
   "execution_count": 41,
   "id": "73f327b2",
   "metadata": {},
   "outputs": [
    {
     "name": "stderr",
     "output_type": "stream",
     "text": [
      "100%|█████████████████████████████████████████████████████████████████████████████████████████████████████████████████████████████████████████████████████████████████████████| 4485/4485 [01:05<00:00, 68.94it/s]\n"
     ]
    }
   ],
   "source": [
    "valid_tensors = paths_to_tensor(xtest).astype('float32')/255 - 0.5"
   ]
  },
  {
   "cell_type": "code",
   "execution_count": 43,
   "id": "515cecde",
   "metadata": {},
   "outputs": [
    {
     "name": "stdout",
     "output_type": "stream",
     "text": [
      "Model: \"sequential_1\"\n",
      "_________________________________________________________________\n",
      " Layer (type)                Output Shape              Param #   \n",
      "=================================================================\n",
      " conv2d_4 (Conv2D)           (None, 128, 128, 64)      832       \n",
      "                                                                 \n",
      " max_pooling2d_4 (MaxPoolin  (None, 64, 64, 64)        0         \n",
      " g2D)                                                            \n",
      "                                                                 \n",
      " conv2d_5 (Conv2D)           (None, 64, 64, 128)       32896     \n",
      "                                                                 \n",
      " max_pooling2d_5 (MaxPoolin  (None, 32, 32, 128)       0         \n",
      " g2D)                                                            \n",
      "                                                                 \n",
      " conv2d_6 (Conv2D)           (None, 32, 32, 256)       131328    \n",
      "                                                                 \n",
      " max_pooling2d_6 (MaxPoolin  (None, 16, 16, 256)       0         \n",
      " g2D)                                                            \n",
      "                                                                 \n",
      " conv2d_7 (Conv2D)           (None, 16, 16, 512)       524800    \n",
      "                                                                 \n",
      " max_pooling2d_7 (MaxPoolin  (None, 8, 8, 512)         0         \n",
      " g2D)                                                            \n",
      "                                                                 \n",
      " dropout_2 (Dropout)         (None, 8, 8, 512)         0         \n",
      "                                                                 \n",
      " flatten_1 (Flatten)         (None, 32768)             0         \n",
      "                                                                 \n",
      " dense_2 (Dense)             (None, 500)               16384500  \n",
      "                                                                 \n",
      " dropout_3 (Dropout)         (None, 500)               0         \n",
      "                                                                 \n",
      " dense_3 (Dense)             (None, 10)                5010      \n",
      "                                                                 \n",
      "=================================================================\n",
      "Total params: 17079366 (65.15 MB)\n",
      "Trainable params: 17079366 (65.15 MB)\n",
      "Non-trainable params: 0 (0.00 Byte)\n",
      "_________________________________________________________________\n"
     ]
    }
   ],
   "source": [
    "model = Sequential()\n",
    "\n",
    "model.add(Conv2D(filters=64, kernel_size=2, padding='same', activation='relu', input_shape=(128,128,3), kernel_initializer='glorot_normal'))\n",
    "model.add(MaxPooling2D(pool_size=2))\n",
    "model.add(Conv2D(filters=128, kernel_size=2, padding='same', activation='relu', kernel_initializer='glorot_normal'))\n",
    "model.add(MaxPooling2D(pool_size=2))\n",
    "model.add(Conv2D(filters=256, kernel_size=2, padding='same', activation='relu', kernel_initializer='glorot_normal'))\n",
    "model.add(MaxPooling2D(pool_size=2))\n",
    "model.add(Conv2D(filters=512, kernel_size=2, padding='same', activation='relu', kernel_initializer='glorot_normal'))\n",
    "model.add(MaxPooling2D(pool_size=2))\n",
    "model.add(Dropout(0.5))\n",
    "model.add(Flatten())\n",
    "model.add(Dense(500, activation='relu', kernel_initializer='glorot_normal'))\n",
    "model.add(Dropout(0.5))\n",
    "model.add(Dense(10, activation='softmax', kernel_initializer='glorot_normal'))\n",
    "\n",
    "\n",
    "model.summary()"
   ]
  },
  {
   "cell_type": "code",
   "execution_count": 44,
   "id": "a402ca97",
   "metadata": {},
   "outputs": [
    {
     "name": "stdout",
     "output_type": "stream",
     "text": [
      "You must install pydot (`pip install pydot`) and install graphviz (see instructions at https://graphviz.gitlab.io/download/) for plot_model to work.\n"
     ]
    }
   ],
   "source": [
    "plot_model(model,to_file=os.path.join(MODEL_PATH,\"model_distracted_driver.png\"),show_shapes=True,show_layer_names=True)"
   ]
  },
  {
   "cell_type": "code",
   "execution_count": 45,
   "id": "fd54529f",
   "metadata": {},
   "outputs": [
    {
     "name": "stdout",
     "output_type": "stream",
     "text": [
      "WARNING:tensorflow:From C:\\Users\\omkar\\AppData\\Roaming\\Python\\Python311\\site-packages\\keras\\src\\optimizers\\__init__.py:309: The name tf.train.Optimizer is deprecated. Please use tf.compat.v1.train.Optimizer instead.\n",
      "\n"
     ]
    }
   ],
   "source": [
    "model.compile(optimizer='rmsprop', loss='categorical_crossentropy', metrics=['accuracy'])"
   ]
  },
  {
   "cell_type": "code",
   "execution_count": 46,
   "id": "06cb4b0b",
   "metadata": {},
   "outputs": [
    {
     "name": "stdout",
     "output_type": "stream",
     "text": [
      "WARNING:tensorflow:`period` argument is deprecated. Please use `save_freq` to specify the frequency in number of batches seen.\n"
     ]
    }
   ],
   "source": [
    "filepath = os.path.join(MODEL_PATH,\"distracted-{epoch:02d}-{val_accuracy:.2f}.hdf5\")\n",
    "checkpoint = ModelCheckpoint(filepath, monitor='val_accuracy', verbose=1, save_best_only=True, mode='max',period=1)\n",
    "callbacks_list = [checkpoint]"
   ]
  },
  {
   "cell_type": "code",
   "execution_count": 47,
   "id": "81cbde95",
   "metadata": {},
   "outputs": [
    {
     "name": "stdout",
     "output_type": "stream",
     "text": [
      "Epoch 1/25\n",
      "WARNING:tensorflow:From C:\\Users\\omkar\\AppData\\Roaming\\Python\\Python311\\site-packages\\keras\\src\\utils\\tf_utils.py:492: The name tf.ragged.RaggedTensorValue is deprecated. Please use tf.compat.v1.ragged.RaggedTensorValue instead.\n",
      "\n",
      "WARNING:tensorflow:From C:\\Users\\omkar\\AppData\\Roaming\\Python\\Python311\\site-packages\\keras\\src\\engine\\base_layer_utils.py:384: The name tf.executing_eagerly_outside_functions is deprecated. Please use tf.compat.v1.executing_eagerly_outside_functions instead.\n",
      "\n",
      "449/449 [==============================] - ETA: 0s - loss: 0.9827 - accuracy: 0.6656\n",
      "Epoch 1: val_accuracy improved from -inf to 0.93043, saving model to C:\\Users\\omkar\\model\\self_trained\\distracted-01-0.93.hdf5\n"
     ]
    },
    {
     "name": "stderr",
     "output_type": "stream",
     "text": [
      "C:\\Users\\omkar\\AppData\\Roaming\\Python\\Python311\\site-packages\\keras\\src\\engine\\training.py:3103: UserWarning: You are saving your model as an HDF5 file via `model.save()`. This file format is considered legacy. We recommend using instead the native Keras format, e.g. `model.save('my_model.keras')`.\n",
      "  saving_api.save_model(\n"
     ]
    },
    {
     "name": "stdout",
     "output_type": "stream",
     "text": [
      "449/449 [==============================] - 331s 728ms/step - loss: 0.9827 - accuracy: 0.6656 - val_loss: 0.2387 - val_accuracy: 0.9304\n",
      "Epoch 2/25\n",
      "449/449 [==============================] - ETA: 0s - loss: 0.2139 - accuracy: 0.9353\n",
      "Epoch 2: val_accuracy improved from 0.93043 to 0.96143, saving model to C:\\Users\\omkar\\model\\self_trained\\distracted-02-0.96.hdf5\n",
      "449/449 [==============================] - 319s 711ms/step - loss: 0.2139 - accuracy: 0.9353 - val_loss: 0.1256 - val_accuracy: 0.9614\n",
      "Epoch 3/25\n",
      "449/449 [==============================] - ETA: 0s - loss: 0.1181 - accuracy: 0.9667\n",
      "Epoch 3: val_accuracy improved from 0.96143 to 0.98439, saving model to C:\\Users\\omkar\\model\\self_trained\\distracted-03-0.98.hdf5\n",
      "449/449 [==============================] - 317s 705ms/step - loss: 0.1181 - accuracy: 0.9667 - val_loss: 0.0569 - val_accuracy: 0.9844\n",
      "Epoch 4/25\n",
      "449/449 [==============================] - ETA: 0s - loss: 0.0803 - accuracy: 0.9765\n",
      "Epoch 4: val_accuracy improved from 0.98439 to 0.99041, saving model to C:\\Users\\omkar\\model\\self_trained\\distracted-04-0.99.hdf5\n",
      "449/449 [==============================] - 317s 706ms/step - loss: 0.0803 - accuracy: 0.9765 - val_loss: 0.0398 - val_accuracy: 0.9904\n",
      "Epoch 5/25\n",
      "449/449 [==============================] - ETA: 0s - loss: 0.0583 - accuracy: 0.9812\n",
      "Epoch 5: val_accuracy did not improve from 0.99041\n",
      "449/449 [==============================] - 315s 702ms/step - loss: 0.0583 - accuracy: 0.9812 - val_loss: 0.0487 - val_accuracy: 0.9889\n",
      "Epoch 6/25\n",
      "449/449 [==============================] - ETA: 0s - loss: 0.0472 - accuracy: 0.9862\n",
      "Epoch 6: val_accuracy improved from 0.99041 to 0.99287, saving model to C:\\Users\\omkar\\model\\self_trained\\distracted-06-0.99.hdf5\n",
      "449/449 [==============================] - 314s 699ms/step - loss: 0.0472 - accuracy: 0.9862 - val_loss: 0.0334 - val_accuracy: 0.9929\n",
      "Epoch 7/25\n",
      "449/449 [==============================] - ETA: 0s - loss: 0.0453 - accuracy: 0.9867\n",
      "Epoch 7: val_accuracy improved from 0.99287 to 0.99353, saving model to C:\\Users\\omkar\\model\\self_trained\\distracted-07-0.99.hdf5\n",
      "449/449 [==============================] - 309s 688ms/step - loss: 0.0453 - accuracy: 0.9867 - val_loss: 0.0323 - val_accuracy: 0.9935\n",
      "Epoch 8/25\n",
      "449/449 [==============================] - ETA: 0s - loss: 0.0359 - accuracy: 0.9889\n",
      "Epoch 8: val_accuracy improved from 0.99353 to 0.99443, saving model to C:\\Users\\omkar\\model\\self_trained\\distracted-08-0.99.hdf5\n",
      "449/449 [==============================] - 319s 710ms/step - loss: 0.0359 - accuracy: 0.9889 - val_loss: 0.0319 - val_accuracy: 0.9944\n",
      "Epoch 9/25\n",
      "449/449 [==============================] - ETA: 0s - loss: 0.0324 - accuracy: 0.9907\n",
      "Epoch 9: val_accuracy did not improve from 0.99443\n",
      "449/449 [==============================] - 314s 700ms/step - loss: 0.0324 - accuracy: 0.9907 - val_loss: 0.0365 - val_accuracy: 0.9931\n",
      "Epoch 10/25\n",
      "449/449 [==============================] - ETA: 0s - loss: 0.0270 - accuracy: 0.9917\n",
      "Epoch 10: val_accuracy did not improve from 0.99443\n",
      "449/449 [==============================] - 319s 711ms/step - loss: 0.0270 - accuracy: 0.9917 - val_loss: 0.0521 - val_accuracy: 0.9882\n",
      "Epoch 11/25\n",
      "449/449 [==============================] - ETA: 0s - loss: 0.0305 - accuracy: 0.9904\n",
      "Epoch 11: val_accuracy did not improve from 0.99443\n",
      "449/449 [==============================] - 362s 805ms/step - loss: 0.0305 - accuracy: 0.9904 - val_loss: 0.0555 - val_accuracy: 0.9922\n",
      "Epoch 12/25\n",
      "449/449 [==============================] - ETA: 0s - loss: 0.0284 - accuracy: 0.9917\n",
      "Epoch 12: val_accuracy improved from 0.99443 to 0.99487, saving model to C:\\Users\\omkar\\model\\self_trained\\distracted-12-0.99.hdf5\n",
      "449/449 [==============================] - 373s 831ms/step - loss: 0.0284 - accuracy: 0.9917 - val_loss: 0.0391 - val_accuracy: 0.9949\n",
      "Epoch 13/25\n",
      "449/449 [==============================] - ETA: 0s - loss: 0.0290 - accuracy: 0.9932\n",
      "Epoch 13: val_accuracy did not improve from 0.99487\n",
      "449/449 [==============================] - 290s 645ms/step - loss: 0.0290 - accuracy: 0.9932 - val_loss: 0.0375 - val_accuracy: 0.9933\n",
      "Epoch 14/25\n",
      "449/449 [==============================] - ETA: 0s - loss: 0.0250 - accuracy: 0.9937\n",
      "Epoch 14: val_accuracy improved from 0.99487 to 0.99554, saving model to C:\\Users\\omkar\\model\\self_trained\\distracted-14-1.00.hdf5\n",
      "449/449 [==============================] - 290s 645ms/step - loss: 0.0250 - accuracy: 0.9937 - val_loss: 0.0228 - val_accuracy: 0.9955\n",
      "Epoch 15/25\n",
      "449/449 [==============================] - ETA: 0s - loss: 0.0228 - accuracy: 0.9945\n",
      "Epoch 15: val_accuracy did not improve from 0.99554\n",
      "449/449 [==============================] - 333s 742ms/step - loss: 0.0228 - accuracy: 0.9945 - val_loss: 0.0188 - val_accuracy: 0.9951\n",
      "Epoch 16/25\n",
      "449/449 [==============================] - ETA: 0s - loss: 0.0248 - accuracy: 0.9938\n",
      "Epoch 16: val_accuracy improved from 0.99554 to 0.99621, saving model to C:\\Users\\omkar\\model\\self_trained\\distracted-16-1.00.hdf5\n",
      "449/449 [==============================] - 290s 646ms/step - loss: 0.0248 - accuracy: 0.9938 - val_loss: 0.0206 - val_accuracy: 0.9962\n",
      "Epoch 17/25\n",
      "449/449 [==============================] - ETA: 0s - loss: 0.0209 - accuracy: 0.9944\n",
      "Epoch 17: val_accuracy did not improve from 0.99621\n",
      "449/449 [==============================] - 289s 644ms/step - loss: 0.0209 - accuracy: 0.9944 - val_loss: 0.0375 - val_accuracy: 0.9933\n",
      "Epoch 18/25\n",
      "449/449 [==============================] - ETA: 0s - loss: 0.0174 - accuracy: 0.9954\n",
      "Epoch 18: val_accuracy did not improve from 0.99621\n",
      "449/449 [==============================] - 291s 648ms/step - loss: 0.0174 - accuracy: 0.9954 - val_loss: 0.0369 - val_accuracy: 0.9946\n",
      "Epoch 19/25\n",
      "449/449 [==============================] - ETA: 0s - loss: 0.0227 - accuracy: 0.9939\n",
      "Epoch 19: val_accuracy did not improve from 0.99621\n",
      "449/449 [==============================] - 291s 648ms/step - loss: 0.0227 - accuracy: 0.9939 - val_loss: 0.0415 - val_accuracy: 0.9953\n",
      "Epoch 20/25\n",
      "449/449 [==============================] - ETA: 0s - loss: 0.0185 - accuracy: 0.9953\n",
      "Epoch 20: val_accuracy did not improve from 0.99621\n",
      "449/449 [==============================] - 292s 650ms/step - loss: 0.0185 - accuracy: 0.9953 - val_loss: 0.0334 - val_accuracy: 0.9958\n",
      "Epoch 21/25\n",
      "449/449 [==============================] - ETA: 0s - loss: 0.0242 - accuracy: 0.9948\n",
      "Epoch 21: val_accuracy did not improve from 0.99621\n",
      "449/449 [==============================] - 290s 646ms/step - loss: 0.0242 - accuracy: 0.9948 - val_loss: 0.0328 - val_accuracy: 0.9958\n",
      "Epoch 22/25\n",
      "449/449 [==============================] - ETA: 0s - loss: 0.0200 - accuracy: 0.9949\n",
      "Epoch 22: val_accuracy did not improve from 0.99621\n",
      "449/449 [==============================] - 291s 647ms/step - loss: 0.0200 - accuracy: 0.9949 - val_loss: 0.1035 - val_accuracy: 0.9884\n",
      "Epoch 23/25\n",
      "449/449 [==============================] - ETA: 0s - loss: 0.0164 - accuracy: 0.9959\n",
      "Epoch 23: val_accuracy improved from 0.99621 to 0.99643, saving model to C:\\Users\\omkar\\model\\self_trained\\distracted-23-1.00.hdf5\n",
      "449/449 [==============================] - 289s 645ms/step - loss: 0.0164 - accuracy: 0.9959 - val_loss: 0.0249 - val_accuracy: 0.9964\n",
      "Epoch 24/25\n",
      "449/449 [==============================] - ETA: 0s - loss: 0.0195 - accuracy: 0.9955\n",
      "Epoch 24: val_accuracy did not improve from 0.99643\n",
      "449/449 [==============================] - 290s 646ms/step - loss: 0.0195 - accuracy: 0.9955 - val_loss: 0.0293 - val_accuracy: 0.9953\n",
      "Epoch 25/25\n",
      "449/449 [==============================] - ETA: 0s - loss: 0.0198 - accuracy: 0.9958\n",
      "Epoch 25: val_accuracy did not improve from 0.99643\n",
      "449/449 [==============================] - 288s 642ms/step - loss: 0.0198 - accuracy: 0.9958 - val_loss: 0.0308 - val_accuracy: 0.9958\n"
     ]
    }
   ],
   "source": [
    "model_history = model.fit(train_tensors,ytrain,validation_data = (valid_tensors, ytest),epochs=25, batch_size=40, shuffle=True,callbacks=callbacks_list)"
   ]
  },
  {
   "cell_type": "code",
   "execution_count": 48,
   "id": "bc5f2366",
   "metadata": {},
   "outputs": [],
   "source": [
    "model.save('Distracted_model.h5')    "
   ]
  },
  {
   "cell_type": "code",
   "execution_count": null,
   "id": "20cb74cc",
   "metadata": {},
   "outputs": [],
   "source": []
  }
 ],
 "metadata": {
  "kernelspec": {
   "display_name": "Python 3 (ipykernel)",
   "language": "python",
   "name": "python3"
  },
  "language_info": {
   "codemirror_mode": {
    "name": "ipython",
    "version": 3
   },
   "file_extension": ".py",
   "mimetype": "text/x-python",
   "name": "python",
   "nbconvert_exporter": "python",
   "pygments_lexer": "ipython3",
   "version": "3.11.5"
  }
 },
 "nbformat": 4,
 "nbformat_minor": 5
}
